{
 "cells": [
  {
   "cell_type": "code",
   "execution_count": null,
   "id": "c547da48",
   "metadata": {},
   "outputs": [],
   "source": [
    "try:\n",
    "    import google.colab  # noqa: F401\n",
    "except ImportError:\n",
    "    import ufl  # noqa: F401\n",
    "    import dolfinx  # noqa: F401\n",
    "else:\n",
    "    try:\n",
    "        import ufl\n",
    "        import dolfinx\n",
    "    except ImportError:\n",
    "        !wget \"https://fem-on-colab.github.io/releases/fenicsx-install.sh\" -O \"/tmp/fenicsx-install.sh\" && bash \"/tmp/fenicsx-install.sh\"\n",
    "        import ufl  # noqa: F401\n",
    "        import dolfinx  # noqa: F401"
   ]
  },
  {
   "cell_type": "code",
   "execution_count": null,
   "id": "7c29d660",
   "metadata": {},
   "outputs": [],
   "source": [
    "try:\n",
    "    import google.colab\n",
    "except ImportError:\n",
    "    pass\n",
    "else:\n",
    "    google.colab.output.enable_custom_widget_manager()\n",
    "try:\n",
    "    import pyvista\n",
    "except ImportError:\n",
    "    !pip3 install --upgrade pyvista itkwidgets\n",
    "    import pyvista  # noqa: F401"
   ]
  },
  {
   "cell_type": "code",
   "execution_count": null,
   "id": "ca612cea",
   "metadata": {},
   "outputs": [],
   "source": [
    "# Download data files\n",
    "!mkdir -p data\n",
    "![ -f data/circle.h5 ] || wget https://github.com/multiphenics/multiphenicsx/raw/main/tutorials/03_lagrange_multipliers/data/circle.h5 -O data/circle.h5\n",
    "![ -f data/circle.xdmf ] || wget https://github.com/multiphenics/multiphenicsx/raw/main/tutorials/03_lagrange_multipliers/data/circle.xdmf -O data/circle.xdmf"
   ]
  },
  {
   "cell_type": "code",
   "execution_count": null,
   "id": "b7151a92",
   "metadata": {},
   "outputs": [],
   "source": [
    "import numpy as np\n",
    "from mpi4py import MPI\n",
    "from dolfinx.fem import Function, FunctionSpace, VectorFunctionSpace\n",
    "from dolfinx.io import XDMFFile\n",
    "from dolfinx.mesh import GhostMode\n",
    "from dolfinx.plot import create_vtk_topology"
   ]
  },
  {
   "cell_type": "code",
   "execution_count": null,
   "id": "d0ba096c",
   "metadata": {},
   "outputs": [],
   "source": [
    "with XDMFFile(MPI.COMM_WORLD, \"data/circle.xdmf\", \"r\") as infile:\n",
    "    mesh = infile.read_mesh(GhostMode.none)\n",
    "    subdomains = infile.read_meshtags(mesh, name=\"subdomains\")\n",
    "    mesh.topology.create_connectivity(mesh.topology.dim - 1, mesh.topology.dim)\n",
    "    boundaries = infile.read_meshtags(mesh, name=\"boundaries\")"
   ]
  },
  {
   "cell_type": "code",
   "execution_count": null,
   "id": "e84afab8",
   "metadata": {},
   "outputs": [],
   "source": [
    "def dolfinx_to_pyvista_mesh(mesh):\n",
    "    num_cells = mesh.topology.index_map(mesh.topology.dim).size_local\n",
    "    cell_entities = np.arange(num_cells, dtype=np.int32)\n",
    "    pyvista_cells, cell_types = create_vtk_topology(mesh, mesh.topology.dim, cell_entities)\n",
    "    grid = pyvista.UnstructuredGrid(pyvista_cells, cell_types, mesh.geometry.x)\n",
    "    return grid"
   ]
  },
  {
   "cell_type": "code",
   "execution_count": null,
   "id": "ff8c49cf",
   "metadata": {},
   "outputs": [],
   "source": [
    "def pyvista_mesh_plot(mesh):\n",
    "    grid = dolfinx_to_pyvista_mesh(mesh)\n",
    "    plotter = pyvista.PlotterITK()\n",
    "    plotter.add_mesh(grid)\n",
    "    plotter.show()"
   ]
  },
  {
   "cell_type": "code",
   "execution_count": null,
   "id": "69623b64",
   "metadata": {},
   "outputs": [],
   "source": [
    "pyvista_mesh_plot(mesh)"
   ]
  },
  {
   "cell_type": "code",
   "execution_count": null,
   "id": "1c0d2f4c",
   "metadata": {},
   "outputs": [],
   "source": [
    "V_scalar = FunctionSpace(mesh, (\"CG\", 1))"
   ]
  },
  {
   "cell_type": "code",
   "execution_count": null,
   "id": "c82bd984",
   "metadata": {},
   "outputs": [],
   "source": [
    "u_scalar = Function(V_scalar)\n",
    "u_scalar.interpolate(lambda x: 9 - x[0]**2 - x[1]**2)"
   ]
  },
  {
   "cell_type": "code",
   "execution_count": null,
   "id": "3daedabe",
   "metadata": {},
   "outputs": [],
   "source": [
    "def pyvista_scalar_field_plot(mesh, scalar_field, name):\n",
    "    grid = dolfinx_to_pyvista_mesh(mesh)\n",
    "    grid.point_arrays[name] = scalar_field.compute_point_values()\n",
    "    grid.set_active_scalars(name)\n",
    "    plotter = pyvista.PlotterITK()\n",
    "    plotter.add_mesh(grid)\n",
    "    plotter.show()"
   ]
  },
  {
   "cell_type": "code",
   "execution_count": null,
   "id": "09c51af1",
   "metadata": {},
   "outputs": [],
   "source": [
    "pyvista_scalar_field_plot(mesh, u_scalar, \"scalar\")"
   ]
  },
  {
   "cell_type": "code",
   "execution_count": null,
   "id": "4002df98",
   "metadata": {},
   "outputs": [],
   "source": [
    "V_vector = VectorFunctionSpace(mesh, (\"CG\", 1))"
   ]
  },
  {
   "cell_type": "code",
   "execution_count": null,
   "id": "cb5e3472",
   "metadata": {},
   "outputs": [],
   "source": [
    "u_vector = Function(V_vector)\n",
    "u_vector.sub(0).interpolate(lambda x: 2 * (9 - x[0]**2 - x[1]**2))\n",
    "u_vector.sub(1).interpolate(lambda x: 3 * (9 - x[0]**2 - x[1]**2))"
   ]
  },
  {
   "cell_type": "code",
   "execution_count": null,
   "id": "b4746e36",
   "metadata": {},
   "outputs": [],
   "source": [
    "def pyvista_vector_field_plot(mesh, vector_field, name, factor):\n",
    "    grid = dolfinx_to_pyvista_mesh(mesh)\n",
    "    values = np.zeros((mesh.geometry.x.shape[0], 3))\n",
    "    values[:, :2] = vector_field.compute_point_values()\n",
    "    grid.point_arrays[name] = values\n",
    "    grid.set_active_vectors(name)\n",
    "    plotter = pyvista.PlotterITK()\n",
    "    plotter.add_mesh(grid)\n",
    "    glyphs = grid.glyph(orient=name, factor=factor)\n",
    "    plotter.add_mesh(glyphs)\n",
    "    plotter.show()"
   ]
  },
  {
   "cell_type": "code",
   "execution_count": null,
   "id": "c148b13e",
   "metadata": {},
   "outputs": [],
   "source": [
    "pyvista_vector_field_plot(mesh, u_vector, \"vector\", 5e-2)"
   ]
  }
 ],
 "metadata": {
  "kernelspec": {
   "display_name": "Python 3 (ipykernel)",
   "language": "python",
   "name": "python3"
  },
  "language_info": {
   "codemirror_mode": {
    "name": "ipython"
   },
   "file_extension": ".py",
   "mimetype": "text/x-python",
   "name": "python",
   "nbconvert_exporter": "python"
  }
 },
 "nbformat": 4,
 "nbformat_minor": 5
}
