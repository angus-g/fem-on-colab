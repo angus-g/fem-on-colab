{
 "cells": [
  {
   "cell_type": "code",
   "execution_count": null,
   "id": "animated-defeat",
   "metadata": {},
   "outputs": [],
   "source": [
    "import sys\n",
    "assert sys.version_info.major == 3\n",
    "assert sys.version_info.minor == 7"
   ]
  },
  {
   "cell_type": "code",
   "execution_count": null,
   "id": "involved-grove",
   "metadata": {},
   "outputs": [],
   "source": [
    "import numpy\n",
    "assert numpy.version.version == \"1.19.5\""
   ]
  },
  {
   "cell_type": "code",
   "execution_count": null,
   "id": "molecular-jamaica",
   "metadata": {},
   "outputs": [],
   "source": [
    "import Cython\n",
    "assert Cython.__version__ == \"0.29.23\""
   ]
  },
  {
   "cell_type": "code",
   "execution_count": null,
   "id": "dying-sigma",
   "metadata": {},
   "outputs": [],
   "source": [
    "import sympy\n",
    "assert sympy.__version__ == \"1.7.1\""
   ]
  },
  {
   "cell_type": "code",
   "execution_count": null,
   "id": "handled-tattoo",
   "metadata": {},
   "outputs": [],
   "source": [
    "import os\n",
    "assert \"libtcmalloc\" in os.getenv(\"LD_PRELOAD\", \"\")"
   ]
  }
 ],
 "metadata": {
  "kernelspec": {
   "display_name": "Python 3",
   "language": "python",
   "name": "python3"
  },
  "language_info": {
   "codemirror_mode": {
    "name": "ipython"
   },
   "file_extension": ".py",
   "mimetype": "text/x-python",
   "name": "python",
   "nbconvert_exporter": "python"
  }
 },
 "nbformat": 4,
 "nbformat_minor": 5
}
