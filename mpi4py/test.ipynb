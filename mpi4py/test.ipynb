{
 "cells": [
  {
   "cell_type": "code",
   "execution_count": null,
   "id": "mediterranean-century",
   "metadata": {},
   "outputs": [],
   "source": [
    "try:\n",
    "    import mpi4py\n",
    "except ImportError:\n",
    "    !wget \"https://fem-on-colab.github.io/releases/mpi4py-install.sh\" -O \"/tmp/mpi4py-install.sh\" && bash \"/tmp/mpi4py-install.sh\"\n",
    "    import mpi4py"
   ]
  },
  {
   "cell_type": "code",
   "execution_count": null,
   "id": "ahead-benefit",
   "metadata": {},
   "outputs": [],
   "source": [
    "import mpi4py\n",
    "assert mpi4py.__version__ == \"3.1.0a0\""
   ]
  }
 ],
 "metadata": {
  "kernelspec": {
   "display_name": "Python 3",
   "language": "python",
   "name": "python3"
  },
  "language_info": {
   "codemirror_mode": {
    "name": "ipython"
   },
   "file_extension": ".py",
   "mimetype": "text/x-python",
   "name": "python",
   "nbconvert_exporter": "python"
  }
 },
 "nbformat": 4,
 "nbformat_minor": 5
}
